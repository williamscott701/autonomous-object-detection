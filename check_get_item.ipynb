{
 "cells": [
  {
   "cell_type": "code",
   "execution_count": 1,
   "metadata": {},
   "outputs": [
    {
     "name": "stdout",
     "output_type": "stream",
     "text": [
      "Loading done\n"
     ]
    }
   ],
   "source": [
    "# from dent_faster_rcnn.imports import *\n",
    "from imports import *\n",
    "import pickle\n",
    "# from dent_faster_rcnn.datasets.dent import *\n",
    "from datasets.dent import *\n",
    "# from dent_faster_rcnn.cfg import *\n",
    "from cfg import *\n",
    "\n",
    "device = torch.device('cuda') if torch.cuda.is_available() else torch.device('cpu')\n",
    "\n",
    "with open(\"datalists/dent_images_path_list.txt\", \"rb\") as fp:\n",
    "    img_paths = pickle.load(fp)\n",
    "with open(\"datalists/dent_anno_path_list.txt\", \"rb\") as fp:\n",
    "    anno_paths = pickle.load(fp)\n",
    "\n",
    "images = img_paths\n",
    "annos = anno_paths\n",
    "\n",
    "train_img_paths = []\n",
    "with open(os.path.join(dent_path, 'train.txt')) as f:\n",
    "    train_img_paths = f.readlines()\n",
    "\n",
    "for i in range(len(train_img_paths)):\n",
    "    train_img_paths[i] = train_img_paths[i].strip('\\n')\n",
    "    train_img_paths[i] = train_img_paths[i] + '.jpg'\n",
    "    img_dir = os.path.join(dent_path , 'images')\n",
    "    train_img_paths[i] = os.path.join(img_dir, train_img_paths[i])\n",
    "\n",
    "train_anno_paths = []\n",
    "for i in range(len(train_img_paths)):\n",
    "    train_anno_paths.append(train_img_paths[i].replace('images', 'Dent_annotations',1))\n",
    "    train_anno_paths[i] = train_anno_paths[i].replace('.jpg', '.xml')\n",
    "\n",
    "train_img_paths, train_anno_paths = sorted(train_img_paths), sorted(train_anno_paths)\n",
    "\n",
    "assert len(train_img_paths) == len(train_anno_paths)\n",
    "\n",
    "new_train_img_paths, new_train_anno_paths = [], []\n",
    "\n",
    "for i in range(len(train_img_paths)):\n",
    "    if (train_img_paths[i] in images):\n",
    "        new_train_img_paths.append(train_img_paths[i])\n",
    "        new_train_anno_paths.append(train_anno_paths[i])\n",
    "\n",
    "assert len(new_train_img_paths) == len(new_train_anno_paths)\n",
    "\n",
    "dataset_train = DENT(new_train_img_paths, new_train_anno_paths, get_transform(train=True))\n",
    "dl = torch.utils.data.DataLoader(dataset_train, batch_size=batch_size, shuffle=True, num_workers=0, collate_fn=utils.collate_fn)\n",
    "\n",
    "print(\"Loading done\")\n"
   ]
  },
  {
   "cell_type": "code",
   "execution_count": 2,
   "metadata": {},
   "outputs": [
    {
     "data": {
      "text/plain": [
       "{'Unknown': 0, 'Dent': 1}"
      ]
     },
     "execution_count": 2,
     "metadata": {},
     "output_type": "execute_result"
    }
   ],
   "source": [
    "dataset_train.classes"
   ]
  },
  {
   "cell_type": "code",
   "execution_count": 3,
   "metadata": {
    "scrolled": true
   },
   "outputs": [
    {
     "name": "stdout",
     "output_type": "stream",
     "text": [
      "1\n",
      "[{'boxes': tensor([[539., 246., 579., 279.],\n",
      "        [660., 252., 706., 289.]], device='cuda:0'), 'labels': tensor([1, 1], device='cuda:0'), 'image_id': tensor([8.], device='cuda:0'), 'area': tensor([1320., 1702.], device='cuda:0'), 'iscrowd': tensor([0, 0], device='cuda:0')}]\n"
     ]
    }
   ],
   "source": [
    "c=1\n",
    "for image, targets in dl:\n",
    "#     image = list(to_tensor(img).to(device) for img in image)\n",
    "    targets = [{k: v.to(device) for k, v in t.items()} for t in targets]\n",
    "    print(c)\n",
    "    print(targets)\n",
    "    c+=1\n",
    "    break"
   ]
  },
  {
   "cell_type": "code",
   "execution_count": null,
   "metadata": {},
   "outputs": [],
   "source": []
  }
 ],
 "metadata": {
  "kernelspec": {
   "display_name": "Python 3",
   "language": "python",
   "name": "python3"
  },
  "language_info": {
   "codemirror_mode": {
    "name": "ipython",
    "version": 3
   },
   "file_extension": ".py",
   "mimetype": "text/x-python",
   "name": "python",
   "nbconvert_exporter": "python",
   "pygments_lexer": "ipython3",
   "version": "3.7.3"
  }
 },
 "nbformat": 4,
 "nbformat_minor": 2
}
